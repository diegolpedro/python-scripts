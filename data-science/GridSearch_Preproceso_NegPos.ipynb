{
 "cells": [
  {
   "cell_type": "markdown",
   "metadata": {},
   "source": [
    "# Implementación de Grid Search, Pipelines, NLP con corpus de Twitter."
   ]
  },
  {
   "cell_type": "markdown",
   "metadata": {},
   "source": [
    "### Intro\n",
    "Análisis de sentimiento sobre mensajes de twitter mediante la aplicación de técnicas de NLP (Natural Language Processing) y posteriormente ML (Machine Learning). \n",
    "Dentro de lo que es el pre-procesamiento de los datos, se limpian y tokenizan para poder generar un BOW (Bag of Words) que permita alimentar los distintos modelos. Cada modelo es entrenado por separado y optimizado mediante la implementación de GridSearch.\n",
    "\n",
    "#### Preproceso de Datos"
   ]
  },
  {
   "cell_type": "code",
   "execution_count": 3,
   "metadata": {},
   "outputs": [],
   "source": [
    "import re\n",
    "import numpy as np\n",
    "import csv\n",
    "import unicodedata\n",
    "import warnings\n",
    "\n",
    "from sklearn.pipeline import Pipeline\n",
    "from sklearn.feature_extraction.text import CountVectorizer\n",
    "#from sklearn.feature_extraction.text import TfidfTransformer\n",
    "from sklearn.feature_extraction.text import TfidfVectorizer\n",
    "from sklearn.model_selection import GridSearchCV\n",
    "from sklearn.model_selection import train_test_split\n",
    "from sklearn.model_selection import KFold\n",
    "\n",
    "## Clasificadores\n",
    "from sklearn.svm import SVC\n",
    "from sklearn.tree import DecisionTreeClassifier\n",
    "from sklearn.neural_network import MLPClassifier\n",
    "from sklearn.naive_bayes import MultinomialNB\n",
    "\n",
    "warnings.filterwarnings('ignore')\n",
    "\n",
    "# Filenames\n",
    "file_name=\"/home/dpedro/union_salida_clasificada_negpos.csv\"\n",
    "stop_file=\"/home/dpedro/Dropbox/workspace/tfi/tfiEnv/custom_stopwords.txt\"    # Nombre del archivo de stopwords.\n",
    "\n",
    "\n",
    "# Regex para tokenizar correctamente.\n",
    "regex_str = [\n",
    "    r'(?:[\\w_]+)',                                        # Otras palabras\n",
    "    r'(?:\\S)'                                             # Cualquier otra cosa\n",
    "]\n",
    "\n",
    "# Se arman objetos para regular expresions.\n",
    "tokens_re   = re.compile(r'('+'|'.join(regex_str)+')', re.VERBOSE | re.IGNORECASE)\n",
    "\n",
    "# Se carga archivos de STOPWORDS\n",
    "with open(stop_file, newline='') as file:\n",
    "    stopwords = file.read().splitlines()\n",
    "\n",
    "resX = []\n",
    "X = []\n",
    "y = []\n",
    "    \n",
    "# Se abre archivo con tweets y se lo recorre    \n",
    "with open(file_name, newline='') as csvfile:\n",
    "\n",
    "    reader = csv.reader(csvfile, delimiter=',', quotechar='\\\"')\n",
    "    header = next(reader)\n",
    "    \n",
    "    for row in reader:\n",
    "\n",
    "        y.append(row[0].lower())\n",
    "        \n",
    "        tweet = row[1].lower()                    # Se normaliza texto, todo a minusculas.\n",
    "        tweet = re.sub(r'@[a-z0-9_]+', '', tweet) # Se quitan menciones. @xxxxxxxx\n",
    "        tweet = re.sub(r'http[s]?://(?:[a-z]|[0-9]|[$-_@.&+]|[!*\\(\\),]|(?:%[0-9a-f][0-9a-f]))+', '', tweet)\n",
    "        tweet = tweet.translate(str.maketrans('','', '.~¡!-_—#$%¿?:+-/°);(/\",*“”‘’'))\n",
    "        \n",
    "        # Manejo de emoticones.\n",
    "        emoticones = [\n",
    "                      ['😆',' risa'],['😂','risa'],['😱',' asombro'],['🥳',' felicidad'],['💙',' amor'],['😍',' amor'],\n",
    "                      ['😀',' sonreir'],['👍',' ok'],['🤔',' dudar'],['🎊',' alegria'],['🙏',' ojala'],['💪🏻',' fuerza'],\n",
    "                      ['😡',' enojo'],['😛',' broma'],['😮',' asombro'],['🤮',' desagradable'],['👏🏻',' aplauso'],\n",
    "                      ['😏',' canchero'],['😩',' decepcion'],['😳',' verguenza'],['😊',' contento'],['😥',' triste'],\n",
    "                      ['😤',' furioso'],['🖕',' enojo'],['👏',' aplauso'],['💪',' fuerza'],['🤦‍','increible'],\n",
    "                      ['🙄','duda']\n",
    "                     ]\n",
    "        for emoji in emoticones:\n",
    "            tweet = tweet.replace(emoji[0], emoji[1])\n",
    "\n",
    "        # Manejo de acentos.\n",
    "        dict_acentos = [['á','a'],['é','e'],['í','i'],['ó','o'],['ú','u']]\n",
    "        for acento in dict_acentos:\n",
    "            tweet = tweet.replace(acento[0], acento[1])\n",
    "            \n",
    "        # Remueve letras repetidas y deja una sola.\n",
    "        for letra in ['a','e','i','o','u','s','c']:\n",
    "            pattern = letra + '{2,}'\n",
    "            tweet = re.sub(pattern, letra, tweet)\n",
    "        \n",
    "        tweet = tweet.translate(str.maketrans('','', '🥝🐧🐳🖐🛫😑✈🇦🇷🇵🇾👇🙃▶💻►→⬇️😒🔫🔝🔥💀🚫😞♂❤❤❤😎👊🤞🏻'))\n",
    "        tweet = re.sub(r'\\d+', '', tweet)         # Se quitan numeros.\n",
    "        tweet = tweet.strip()\n",
    "    \n",
    "        # Tokenizado\n",
    "        tokens = tokens_re.findall(tweet)\n",
    "\n",
    "        # Remocion de stopwords\n",
    "        tokens = [token for token in tokens if token not in stopwords]\n",
    "        \n",
    "        #Para resumen\n",
    "        resX.append(tokens)\n",
    "        \n",
    "        s = ' '\n",
    "        X.append(s.join(tokens))\n"
   ]
  },
  {
   "cell_type": "markdown",
   "metadata": {},
   "source": [
    "### Busqueda de hyperparametros mediante GridSearch"
   ]
  },
  {
   "cell_type": "code",
   "execution_count": 5,
   "metadata": {
    "scrolled": false
   },
   "outputs": [
    {
     "name": "stdout",
     "output_type": "stream",
     "text": [
      "Comenzando Gridsearch!\n",
      "SVM\n",
      "precision 0.8409689563244563\n",
      "Parametros: {'clf__C': 10, 'clf__gamma': 0.001, 'clf__kernel': 'rbf', 'tfidf__binary': True, 'tfidf__ngram_range': (1, 1), 'tfidf__norm': None, 'tfidf__smooth_idf': True, 'tfidf__use_idf': True}\n",
      "recall 0.8368421052631579\n",
      "Parametros: {'clf__C': 10, 'clf__gamma': 0.001, 'clf__kernel': 'rbf', 'tfidf__binary': True, 'tfidf__ngram_range': (1, 1), 'tfidf__norm': None, 'tfidf__smooth_idf': True, 'tfidf__use_idf': True}\n",
      "Neural Network\n",
      "precision 0.8610996190265553\n",
      "Parametros: {'clf__alpha': 0.001, 'clf__hidden_layer_sizes': 8, 'clf__max_iter': 300, 'clf__random_state': 6, 'clf__solver': 'lbfgs', 'tfidf__binary': True, 'tfidf__ngram_range': (1, 1), 'tfidf__norm': None, 'tfidf__smooth_idf': True, 'tfidf__use_idf': True}\n",
      "recall 0.8552631578947368\n",
      "Parametros: {'clf__alpha': 0.001, 'clf__hidden_layer_sizes': 8, 'clf__max_iter': 300, 'clf__random_state': 6, 'clf__solver': 'lbfgs', 'tfidf__binary': True, 'tfidf__ngram_range': (1, 1), 'tfidf__norm': None, 'tfidf__smooth_idf': True, 'tfidf__use_idf': True}\n",
      "Naive Bayes\n",
      "precision 0.856908592780984\n",
      "Parametros: {'clf__alpha': 0.9, 'clf__fit_prior': False, 'tfidf__binary': False, 'tfidf__ngram_range': (1, 2), 'tfidf__norm': None, 'tfidf__smooth_idf': True, 'tfidf__use_idf': False}\n",
      "recall 0.8526315789473684\n",
      "Parametros: {'clf__alpha': 0.9, 'clf__fit_prior': False, 'tfidf__binary': False, 'tfidf__ngram_range': (1, 2), 'tfidf__norm': None, 'tfidf__smooth_idf': True, 'tfidf__use_idf': False}\n",
      "Random Forest\n",
      "precision 0.7771382565268014\n",
      "Parametros: {'clf__criterion': 'gini', 'clf__max_depth': 4, 'clf__min_samples_leaf': 10, 'tfidf__binary': False, 'tfidf__ngram_range': (1, 1), 'tfidf__norm': 'l1', 'tfidf__smooth_idf': False, 'tfidf__use_idf': True}\n",
      "recall 0.7631578947368421\n",
      "Parametros: {'clf__criterion': 'entropy', 'clf__max_depth': 15, 'clf__min_samples_leaf': 1, 'tfidf__binary': False, 'tfidf__ngram_range': (1, 1), 'tfidf__norm': None, 'tfidf__smooth_idf': True, 'tfidf__use_idf': True}\n"
     ]
    }
   ],
   "source": [
    "# --- Pipelines ---\n",
    "pipeline1 = Pipeline([#('vectorizer', CountVectorizer()),\n",
    "                      ('tfidf', TfidfVectorizer()),\n",
    "                      ('clf', SVC())\n",
    "                     ])\n",
    "pipeline2 = Pipeline([#('vectorizer', CountVectorizer()),\n",
    "                      #('tfidf', TfidfTransformer()),\n",
    "                      ('tfidf', TfidfVectorizer()),\n",
    "                      ('clf', DecisionTreeClassifier())\n",
    "                     ])\n",
    "pipeline3 = Pipeline([#('vectorizer', CountVectorizer()),\n",
    "                      ('tfidf', TfidfVectorizer()),\n",
    "                      ('clf', MLPClassifier())\n",
    "                     ])\n",
    "pipeline4 = Pipeline([#('vectorizer', CountVectorizer()),\n",
    "                      ('tfidf', TfidfVectorizer()),\n",
    "                      ('clf', MultinomialNB())\n",
    "                     ])\n",
    "\n",
    "\n",
    "# --- Parameters ---\n",
    "param_svm = [{ 'tfidf__ngram_range': [(1, 1),(1, 2),(2, 2)],\n",
    "               'tfidf__binary' : (True, False),\n",
    "               'tfidf__norm': ['l1','l2',None],           #‘l1’, ‘l2’ or None, optional (default=’l2’)\n",
    "               'tfidf__smooth_idf' : (True, False),\n",
    "               'tfidf__use_idf': (True, False),\n",
    "               'clf__kernel': ['rbf','linear'],\n",
    "               'clf__gamma': [1e-3, 1e-4, 1e-5],\n",
    "               'clf__C': [1, 10, 100, 1000]\n",
    "             }]\n",
    "param_tree = [{ 'tfidf__ngram_range': [(1, 1),(1, 2),(2, 2)],\n",
    "                'tfidf__binary' : (True, False),\n",
    "                'tfidf__norm': ['l1','l2',None],           #‘l1’, ‘l2’ or None, optional (default=’l2’)\n",
    "                'tfidf__smooth_idf' : (True, False),\n",
    "                'tfidf__use_idf': (True, False),\n",
    "                'clf__criterion': ['gini', 'entropy'],\n",
    "                'clf__max_depth': [ 1,2,3,4,5,6,7,8,9,10,11,12,13,14,15],\n",
    "                'clf__min_samples_leaf': [1, 5, 10, 20]\n",
    "              }]    \n",
    "param_red =  [{ 'tfidf__ngram_range': [(1, 1),(1, 2),(2, 2)],\n",
    "                'tfidf__binary' : (True, False),\n",
    "                'tfidf__norm': ['l1','l2',None],           #‘l1’, ‘l2’ or None, optional (default=’l2’)\n",
    "                'tfidf__smooth_idf' : (True, False),\n",
    "                'tfidf__use_idf': (True, False),\n",
    "                'clf__solver': ['lbfgs'], \n",
    "                'clf__max_iter': [300], \n",
    "                'clf__alpha': 10.0 ** -np.arange(1, 7), \n",
    "                'clf__hidden_layer_sizes':np.arange(5, 10), \n",
    "                'clf__random_state': [6,8] \n",
    "              }]\n",
    "param_nb  =  [{ 'tfidf__ngram_range': [(1, 1),(1, 2),(2, 2)],\n",
    "                'tfidf__binary' : (True, False),\n",
    "                'tfidf__norm': ['l1','l2',None],           #‘l1’, ‘l2’ or None, optional (default=’l2’)\n",
    "                'tfidf__smooth_idf' : (True, False),\n",
    "                'tfidf__use_idf': (True, False),\n",
    "                'clf__alpha': np.linspace(0.5, 1.5, 6),\n",
    "                'clf__fit_prior': [True, False] \n",
    "              }]\n",
    "\n",
    "\n",
    "# --- Scores ---\n",
    "scores = ['precision', 'recall']\n",
    "model = [ \"SVM\", \"Neural Network\", \"Naive Bayes\", \"Random Forest\"]\n",
    "pips = [pipeline1, pipeline3, pipeline4, pipeline2]\n",
    "pars = [param_svm, param_red,  param_nb, param_tree]\n",
    "\n",
    "\n",
    "# --- Cros Validate ---\n",
    "cvNum = 10\n",
    "print(\"Comenzando Gridsearch!\")\n",
    "\n",
    "for i in range(len(pars)):\n",
    "    print(model[i])\n",
    "    for score in scores:\n",
    "        \n",
    "        gs_clf = GridSearchCV( pips[i], pars[i], cv=cvNum, \n",
    "                                   scoring='%s_weighted' % score, n_jobs=-1, \n",
    "                                   verbose=0, refit=False)\n",
    "        gs_clf = gs_clf.fit(X, y)\n",
    "        print(score, gs_clf.best_score_)\n",
    "        print(\"Parametros: %s\" % gs_clf.best_params_)"
   ]
  },
  {
   "cell_type": "markdown",
   "metadata": {},
   "source": [
    "### GridSearch con Mejores Parametros"
   ]
  },
  {
   "cell_type": "code",
   "execution_count": 170,
   "metadata": {},
   "outputs": [
    {
     "name": "stdout",
     "output_type": "stream",
     "text": [
      "Comenzando Gridsearch!\n",
      "\n",
      "SVM\n",
      "precision 0.84\n",
      "recall 0.84\n",
      "Parametros: {'clf__C': 10, 'clf__gamma': 0.001, 'clf__kernel': 'rbf', 'tfidf__binary': True, 'tfidf__ngram_range': (1, 1), 'tfidf__norm': None, 'tfidf__smooth_idf': True, 'tfidf__use_idf': True}\n",
      "\n",
      "Neural Network\n",
      "precision 0.84\n",
      "recall 0.82\n",
      "Parametros: {'clf__alpha': 0.001, 'clf__hidden_layer_sizes': 8, 'clf__max_iter': 300, 'clf__solver': 'lbfgs', 'tfidf__binary': True, 'tfidf__ngram_range': (1, 1), 'tfidf__norm': None, 'tfidf__smooth_idf': True, 'tfidf__use_idf': True}\n",
      "\n",
      "Naive Bayes\n",
      "precision 0.86\n",
      "recall 0.85\n",
      "Parametros: {'clf__alpha': 0.9, 'clf__fit_prior': False, 'tfidf__binary': False, 'tfidf__ngram_range': (1, 2), 'tfidf__norm': None, 'tfidf__smooth_idf': True, 'tfidf__use_idf': False}\n",
      "\n",
      "Random Forest\n",
      "precision 0.78\n",
      "recall 0.74\n",
      "Parametros: {'clf__criterion': 'gini', 'clf__max_depth': 4, 'clf__min_samples_leaf': 10, 'tfidf__binary': False, 'tfidf__ngram_range': (1, 1), 'tfidf__norm': 'l1', 'tfidf__smooth_idf': False, 'tfidf__use_idf': True}\n",
      "\n"
     ]
    }
   ],
   "source": [
    "# --- Pipelines ---\n",
    "pipeline1 = Pipeline([('tfidf', TfidfVectorizer()), ('clf', SVC()) ])\n",
    "pipeline2 = Pipeline([('tfidf', TfidfVectorizer()), ('clf', DecisionTreeClassifier())])\n",
    "pipeline3 = Pipeline([('tfidf', TfidfVectorizer()), ('clf', MLPClassifier())])\n",
    "pipeline4 = Pipeline([('tfidf', TfidfVectorizer()), ('clf', MultinomialNB())])\n",
    "\n",
    "# --- Parameters ---\n",
    "param_svm = [{ 'tfidf__ngram_range': [(1, 1)], 'tfidf__binary': [True],\n",
    "               'tfidf__norm': [None],           #‘l1’, ‘l2’ or None, optional (default=’l2’)\n",
    "               'tfidf__smooth_idf' : [True], 'tfidf__use_idf': [True],\n",
    "               'clf__kernel': ['rbf'], 'clf__gamma': [0.001], 'clf__C': [10]\n",
    "             }]\n",
    "\n",
    "param_tree = [{ 'tfidf__ngram_range': [(1, 1)], 'tfidf__binary' : [False],\n",
    "                'tfidf__norm': ['l1'],           #‘l1’, ‘l2’ or None, optional (default=’l2’)\n",
    "                'tfidf__smooth_idf' : [False], 'tfidf__use_idf': [True],\n",
    "                'clf__criterion': ['gini'], 'clf__max_depth': [ 4 ], 'clf__min_samples_leaf': [ 10 ]\n",
    "              }]\n",
    "\n",
    "param_red =  [{ 'tfidf__ngram_range': [(1, 1)], 'tfidf__binary' : [True],\n",
    "                'tfidf__norm': [None],           #‘l1’, ‘l2’ or None, optional (default=’l2’)\n",
    "                'tfidf__smooth_idf' : [True], 'tfidf__use_idf': [True],\n",
    "                'clf__solver': ['lbfgs'], 'clf__max_iter': [300], 'clf__alpha': [0.001], 'clf__hidden_layer_sizes': [8]\n",
    "              }]\n",
    "\n",
    "param_nb  =  [{ 'tfidf__ngram_range': [(1, 2)], 'tfidf__binary' : [False],\n",
    "                'tfidf__norm': [None],           #‘l1’, ‘l2’ or None, optional (default=’l2’)\n",
    "                'tfidf__smooth_idf' : [True], 'tfidf__use_idf': [False],\n",
    "                'clf__alpha': [0.9], 'clf__fit_prior': [False] \n",
    "              }]\n",
    "\n",
    "# --- Scores ---\n",
    "scores = ['precision', 'recall']\n",
    "model = [ \"SVM\", \"Neural Network\", \"Naive Bayes\", \"Random Forest\"]\n",
    "pips = [pipeline1, pipeline3, pipeline4, pipeline2]\n",
    "pars = [param_svm, param_red,  param_nb, param_tree]\n",
    "\n",
    "\n",
    "# --- Cros Validate ---\n",
    "cvNum = 10\n",
    "print(\"Comenzando Gridsearch!\\n\")\n",
    "\n",
    "for i in range(len(pars)):\n",
    "    print(model[i])\n",
    "    for score in scores:\n",
    "        \n",
    "        gs_clf = GridSearchCV( pips[i], pars[i], cv=cvNum, \n",
    "                                   scoring='%s_weighted' % score, n_jobs=-1, \n",
    "                                   verbose=0, refit=False)\n",
    "        gs_clf = gs_clf.fit(X, y)\n",
    "        print(score, '%.2f' % gs_clf.best_score_)\n",
    "    print(\"Parametros: %s\\n\" % gs_clf.best_params_)\n"
   ]
  },
  {
   "cell_type": "code",
   "execution_count": 197,
   "metadata": {},
   "outputs": [],
   "source": [
    "from sklearn.metrics import confusion_matrix\n",
    "import matplotlib.pyplot as plt\n",
    "from sklearn.model_selection import cross_validate\n",
    "from sklearn.metrics import recall_score\n",
    "\n",
    "np.set_printoptions(precision=3) # Precision de numpy\n",
    "\n",
    "def plot_confusion_matrix(y_true, y_pred, classes, normalize=False, title='Matriz de confusión', cmap=plt.cm.Blues):\n",
    "\n",
    "    # Compute confusion matrix\n",
    "    cm = confusion_matrix(y_true, y_pred)\n",
    "    # Only use the labels that appear in the data\n",
    "    classes = [\"POS\",\"NEG\"]\n",
    "    \n",
    "    if normalize:\n",
    "        cm = cm.astype('float') / cm.sum(axis=1)[:, np.newaxis]\n",
    "        print(\"Normalized confusion matrix\")\n",
    "    else:\n",
    "        print('Matriz de confusión')\n",
    "\n",
    "    #print(cm)\n",
    "\n",
    "    fig, ax = plt.subplots()\n",
    "    im = ax.imshow(cm, interpolation='nearest', cmap=cmap)\n",
    "    ax.figure.colorbar(im, ax=ax)\n",
    "    # We want to show all ticks...\n",
    "    ax.set(xticks=np.arange(cm.shape[1]),\n",
    "           yticks=np.arange(cm.shape[0]),\n",
    "           # ... and label them with the respective list entries\n",
    "           xticklabels=classes, yticklabels=classes,\n",
    "           title=title,\n",
    "           ylabel='ACTUAL',\n",
    "           xlabel='PREDICTED')\n",
    "\n",
    "    # Rotate the tick labels and set their alignment.\n",
    "    plt.setp(ax.get_xticklabels(), rotation=45, ha=\"right\",\n",
    "             rotation_mode=\"anchor\")\n",
    "\n",
    "    # Loop over data dimensions and create text annotations.\n",
    "    fmt = '.2f' if normalize else 'd'\n",
    "    thresh = cm.max() / 2.\n",
    "    for i in range(cm.shape[0]):\n",
    "        for j in range(cm.shape[1]):\n",
    "            ax.text(j, i, format(cm[i, j], fmt),\n",
    "                    ha=\"center\", va=\"center\",\n",
    "                    color=\"white\" if cm[i, j] > thresh else \"black\")\n",
    "    fig.tight_layout()\n",
    "    return ax"
   ]
  },
  {
   "cell_type": "markdown",
   "metadata": {},
   "source": [
    "## Aplicación de clasificadores sin GridSearch.\n",
    "Luego de aplicar gridsearch con el mejor set de hyperparametros para cada clasificador y para cada generador de modelo de datos, surgió el inconveniente de no poder utilizar mas que el ultimo que se había probado. Es por esto que se implementa debajo, cada clasificador por separado. \n",
    "\n",
    "### Resultados sobre SVM"
   ]
  },
  {
   "cell_type": "code",
   "execution_count": 201,
   "metadata": {},
   "outputs": [
    {
     "name": "stdout",
     "output_type": "stream",
     "text": [
      "Precision: 0.86 (+/- 0.06)\n",
      "Recall:    0.70 (+/- 0.05)\n",
      "Matriz de confusión\n"
     ]
    },
    {
     "data": {
      "image/png": "[encoded data removed]",
      "text/plain": [
       "<Figure size 432x288 with 2 Axes>"
      ]
     },
     "metadata": {
      "needs_background": "light"
     },
     "output_type": "display_data"
    }
   ],
   "source": [
    "# Armo BOW\n",
    "vectorizer = TfidfVectorizer(binary=True, ngram_range=(1, 1), norm= 'l2', smooth_idf= False, use_idf= True)\n",
    "Xnum = vectorizer.fit_transform(X)\n",
    "\n",
    "# Seteamos clasificador\n",
    "clf = SVC(kernel='linear', C=1, gamma=0.001)\n",
    "\n",
    "scoring = ['precision_macro', 'recall_macro']\n",
    "scores = cross_validate(clf, Xnum, y, scoring=scoring, cv=10)\n",
    "\n",
    "print(\"Precision: %0.2f (+/- %0.2f)\" % (scores['test_precision_macro'].mean(), scores['test_precision_macro'].std()))\n",
    "print(\"Recall:    %0.2f (+/- %0.2f)\" % (scores['test_recall_macro'].mean(), scores['test_recall_macro'].std()))\n",
    "\n",
    "# Imprimir matriz de confusion.\n",
    "clf = clf.fit(Xnum, y)\n",
    "y_pred_dt = clf.predict(Xnum)\n",
    "plot_confusion_matrix(y, y_pred_dt, classes=class_names, title='')\n",
    "plt.show()"
   ]
  },
  {
   "cell_type": "markdown",
   "metadata": {},
   "source": [
    "### Resultados sobre Red Neuronal"
   ]
  },
  {
   "cell_type": "code",
   "execution_count": 200,
   "metadata": {},
   "outputs": [
    {
     "name": "stdout",
     "output_type": "stream",
     "text": [
      "Precision: 0.84 (+/- 0.05)\n",
      "Recall:    0.81 (+/- 0.05)\n",
      "Matriz de confusión\n"
     ]
    },
    {
     "data": {
      "image/png": "[encoded data removed]",
      "text/plain": [
       "<Figure size 432x288 with 2 Axes>"
      ]
     },
     "metadata": {
      "needs_background": "light"
     },
     "output_type": "display_data"
    }
   ],
   "source": [
    "# Armo BOW\n",
    "vectorizer = TfidfVectorizer(binary=True, ngram_range=(1, 1), norm= None, smooth_idf= False, use_idf= True)\n",
    "Xnum = vectorizer.fit_transform(X)\n",
    "\n",
    "# Seteamos clasificador\n",
    "clf = MLPClassifier(alpha= 0.0001, hidden_layer_sizes= 8, max_iter= 300, solver= 'lbfgs')\n",
    "#random_state= 6\n",
    "\n",
    "scoring = ['precision_macro', 'recall_macro']\n",
    "scores = cross_validate(clf, Xnum, y, scoring=scoring, cv=10)\n",
    "\n",
    "print(\"Precision: %0.2f (+/- %0.2f)\" % (scores['test_precision_macro'].mean(), scores['test_precision_macro'].std()))\n",
    "print(\"Recall:    %0.2f (+/- %0.2f)\" % (scores['test_recall_macro'].mean(), scores['test_recall_macro'].std()))\n",
    "\n",
    "# Imprimir matriz de confusion.\n",
    "clf = clf.fit(Xnum, y)\n",
    "y_pred_dt = clf.predict(Xnum)\n",
    "plot_confusion_matrix(y, y_pred_dt, classes=class_names, title='')\n",
    "plt.show()"
   ]
  },
  {
   "cell_type": "markdown",
   "metadata": {},
   "source": [
    "### Resultados sobre Naive Bayes"
   ]
  },
  {
   "cell_type": "code",
   "execution_count": 199,
   "metadata": {},
   "outputs": [
    {
     "name": "stdout",
     "output_type": "stream",
     "text": [
      "Precision: 0.71 (+/- 0.08)\n",
      "Recall:    0.72 (+/- 0.09)\n",
      "Matriz de confusión\n"
     ]
    },
    {
     "data": {
      "image/png": "[encoded data removed]",
      "text/plain": [
       "<Figure size 432x288 with 2 Axes>"
      ]
     },
     "metadata": {
      "needs_background": "light"
     },
     "output_type": "display_data"
    }
   ],
   "source": [
    "# Armo BOW\n",
    "vectorizer = TfidfVectorizer(binary=False, ngram_range=(1, 2), norm= None, smooth_idf= True, use_idf= False)\n",
    "Xnum = vectorizer.fit_transform(X)\n",
    "\n",
    "# Seteamos clasificador\n",
    "clf = MultinomialNB(alpha= 0.9, fit_prior= False)\n",
    "#random_state= 6\n",
    "\n",
    "from sklearn.model_selection import cross_validate\n",
    "from sklearn.metrics import recall_score\n",
    "\n",
    "scoring = ['precision_macro', 'recall_macro']\n",
    "scores = cross_validate(clf, Xnum, y, scoring=scoring, cv=10, n_jobs=-1)\n",
    "#print(scores['test_precision_macro'])\n",
    "print(\"Precision: %0.2f (+/- %0.2f)\" % (scores['test_precision_macro'].mean(), scores['test_precision_macro'].std()))\n",
    "print(\"Recall:    %0.2f (+/- %0.2f)\" % (scores['test_recall_macro'].mean(), scores['test_recall_macro'].std()))\n",
    "\n",
    "# Imprimir matriz de confusion.\n",
    "clf = clf.fit(Xnum, y)\n",
    "y_pred_dt = clf.predict(Xnum)\n",
    "plot_confusion_matrix(y, y_pred_dt, classes=class_names, title='')\n",
    "plt.show()"
   ]
  },
  {
   "cell_type": "markdown",
   "metadata": {},
   "source": [
    "### Resultados sobre Arbol de Decision"
   ]
  },
  {
   "cell_type": "code",
   "execution_count": 198,
   "metadata": {},
   "outputs": [
    {
     "name": "stdout",
     "output_type": "stream",
     "text": [
      "Precision: 0.73 (+/- 0.08)\n",
      "Recall:    0.65 (+/- 0.06)\n",
      "Matriz de confusión\n"
     ]
    },
    {
     "data": {
      "image/png": "[encoded data removed]",
      "text/plain": [
       "<Figure size 432x288 with 2 Axes>"
      ]
     },
     "metadata": {
      "needs_background": "light"
     },
     "output_type": "display_data"
    }
   ],
   "source": [
    "# Armo BOW\n",
    "vectorizer = TfidfVectorizer(binary= True, ngram_range=(1, 1), norm= None, smooth_idf= False, use_idf= False)\n",
    "Xnum = vectorizer.fit_transform(X)\n",
    "\n",
    "# Seteamos clasificador\n",
    "clf = DecisionTreeClassifier(criterion= 'entropy', max_depth= 14, min_samples_leaf= 1)\n",
    "\n",
    "scoring = ['precision_macro', 'recall_macro']\n",
    "scores = cross_validate(clf, Xnum, y, scoring=scoring, cv=10, n_jobs=-1)\n",
    "\n",
    "print(\"Precision: %0.2f (+/- %0.2f)\" % (scores['test_precision_macro'].mean(), scores['test_precision_macro'].std()))\n",
    "print(\"Recall:    %0.2f (+/- %0.2f)\" % (scores['test_recall_macro'].mean(), scores['test_recall_macro'].std()))\n",
    "\n",
    "# Imprimir matriz de confusion.\n",
    "clf = clf.fit(Xnum, y)\n",
    "y_pred_dt = clf.predict(Xnum)\n",
    "plot_confusion_matrix(y, y_pred_dt, classes=class_names, title='')\n",
    "plt.show()"
   ]
  }
 ],
 "metadata": {
  "kernelspec": {
   "display_name": "Python 3",
   "language": "python",
   "name": "python3"
  },
  "language_info": {
   "codemirror_mode": {
    "name": "ipython",
    "version": 3
   },
   "file_extension": ".py",
   "mimetype": "text/x-python",
   "name": "python",
   "nbconvert_exporter": "python",
   "pygments_lexer": "ipython3",
   "version": "3.7.3"
  }
 },
 "nbformat": 4,
 "nbformat_minor": 2
}
